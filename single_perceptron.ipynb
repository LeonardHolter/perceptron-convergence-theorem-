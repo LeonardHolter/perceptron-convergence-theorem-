{
  "nbformat": 4,
  "nbformat_minor": 0,
  "metadata": {
    "colab": {
      "provenance": [],
      "authorship_tag": "ABX9TyP223Gm6MxdBLWvCblcoDep",
      "include_colab_link": true
    },
    "kernelspec": {
      "name": "python3",
      "display_name": "Python 3"
    },
    "language_info": {
      "name": "python"
    }
  },
  "cells": [
    {
      "cell_type": "markdown",
      "metadata": {
        "id": "view-in-github",
        "colab_type": "text"
      },
      "source": [
        "<a href=\"https://colab.research.google.com/github/LeonardHolter/perceptron-convergence-theorem-/blob/main/single_perceptron.ipynb\" target=\"_parent\"><img src=\"https://colab.research.google.com/assets/colab-badge.svg\" alt=\"Open In Colab\"/></a>"
      ]
    },
    {
      "cell_type": "code",
      "source": [
        "import numpy as np\n",
        "import matplotlib.pyplot as plt\n"
      ],
      "metadata": {
        "id": "ZG-Pkbw23jM7"
      },
      "execution_count": null,
      "outputs": []
    },
    {
      "cell_type": "code",
      "source": [
        "\n",
        "weight = np.array([0.1,0.1])\n",
        "bias = np.array([0])\n",
        "\n",
        "\n",
        "alfa = 1"
      ],
      "metadata": {
        "id": "kfCBr1Ee3pR2"
      },
      "execution_count": null,
      "outputs": []
    },
    {
      "cell_type": "code",
      "source": [
        "iterations = 100\n",
        "X = np.array([[0,0], [0,1], [1,0], [1,1]])  # inputs\n",
        "y = np.array([1, -1, 1, -1])\n"
      ],
      "metadata": {
        "id": "0qksTvdrkoAM"
      },
      "execution_count": null,
      "outputs": []
    },
    {
      "cell_type": "code",
      "source": [
        "#Plot\n",
        "x_cords = X[:,0]\n",
        "y_cords = X[:,1]\n",
        "\n",
        "\n",
        "plt.scatter(x_cords, y_cords)\n"
      ],
      "metadata": {
        "colab": {
          "base_uri": "https://localhost:8080/",
          "height": 447
        },
        "id": "NyShGuNYqnOh",
        "outputId": "7753e3f1-deef-4c45-88f4-d87a0ac0d841"
      },
      "execution_count": null,
      "outputs": [
        {
          "output_type": "execute_result",
          "data": {
            "text/plain": [
              "<matplotlib.collections.PathCollection at 0x7c4418d78ad0>"
            ]
          },
          "metadata": {},
          "execution_count": 195
        },
        {
          "output_type": "display_data",
          "data": {
            "text/plain": [
              "<Figure size 640x480 with 1 Axes>"
            ],
            "image/png": "[encoded data removed]"
          },
          "metadata": {}
        }
      ]
    },
    {
      "cell_type": "code",
      "source": [
        "for i in range(iterations):\n",
        "  for xi, output_i in zip(X,y):\n",
        "    if (output_i*(np.dot(xi,weight) + bias) > 0  ):\n",
        "      continue\n",
        "    else:\n",
        "      weight = weight + alfa * ( output_i * xi )\n",
        "      bias = bias + alfa*output_i\n",
        "\n",
        "\n",
        "  print(weight, bias)\n"
      ],
      "metadata": {
        "colab": {
          "base_uri": "https://localhost:8080/"
        },
        "id": "p3kSFgfxlK60",
        "outputId": "42e775bc-f424-417c-c734-4d3903a083ce"
      },
      "execution_count": null,
      "outputs": [
        {
          "output_type": "stream",
          "name": "stdout",
          "text": [
            "[-0.9 -1.9] [0]\n",
            "[-0.9 -1.9] [1]\n",
            "[-0.9 -1.9] [1]\n",
            "[-0.9 -1.9] [1]\n",
            "[-0.9 -1.9] [1]\n",
            "[-0.9 -1.9] [1]\n",
            "[-0.9 -1.9] [1]\n",
            "[-0.9 -1.9] [1]\n",
            "[-0.9 -1.9] [1]\n",
            "[-0.9 -1.9] [1]\n",
            "[-0.9 -1.9] [1]\n",
            "[-0.9 -1.9] [1]\n",
            "[-0.9 -1.9] [1]\n",
            "[-0.9 -1.9] [1]\n",
            "[-0.9 -1.9] [1]\n",
            "[-0.9 -1.9] [1]\n",
            "[-0.9 -1.9] [1]\n",
            "[-0.9 -1.9] [1]\n",
            "[-0.9 -1.9] [1]\n",
            "[-0.9 -1.9] [1]\n",
            "[-0.9 -1.9] [1]\n",
            "[-0.9 -1.9] [1]\n",
            "[-0.9 -1.9] [1]\n",
            "[-0.9 -1.9] [1]\n",
            "[-0.9 -1.9] [1]\n",
            "[-0.9 -1.9] [1]\n",
            "[-0.9 -1.9] [1]\n",
            "[-0.9 -1.9] [1]\n",
            "[-0.9 -1.9] [1]\n",
            "[-0.9 -1.9] [1]\n",
            "[-0.9 -1.9] [1]\n",
            "[-0.9 -1.9] [1]\n",
            "[-0.9 -1.9] [1]\n",
            "[-0.9 -1.9] [1]\n",
            "[-0.9 -1.9] [1]\n",
            "[-0.9 -1.9] [1]\n",
            "[-0.9 -1.9] [1]\n",
            "[-0.9 -1.9] [1]\n",
            "[-0.9 -1.9] [1]\n",
            "[-0.9 -1.9] [1]\n",
            "[-0.9 -1.9] [1]\n",
            "[-0.9 -1.9] [1]\n",
            "[-0.9 -1.9] [1]\n",
            "[-0.9 -1.9] [1]\n",
            "[-0.9 -1.9] [1]\n",
            "[-0.9 -1.9] [1]\n",
            "[-0.9 -1.9] [1]\n",
            "[-0.9 -1.9] [1]\n",
            "[-0.9 -1.9] [1]\n",
            "[-0.9 -1.9] [1]\n",
            "[-0.9 -1.9] [1]\n",
            "[-0.9 -1.9] [1]\n",
            "[-0.9 -1.9] [1]\n",
            "[-0.9 -1.9] [1]\n",
            "[-0.9 -1.9] [1]\n",
            "[-0.9 -1.9] [1]\n",
            "[-0.9 -1.9] [1]\n",
            "[-0.9 -1.9] [1]\n",
            "[-0.9 -1.9] [1]\n",
            "[-0.9 -1.9] [1]\n",
            "[-0.9 -1.9] [1]\n",
            "[-0.9 -1.9] [1]\n",
            "[-0.9 -1.9] [1]\n",
            "[-0.9 -1.9] [1]\n",
            "[-0.9 -1.9] [1]\n",
            "[-0.9 -1.9] [1]\n",
            "[-0.9 -1.9] [1]\n",
            "[-0.9 -1.9] [1]\n",
            "[-0.9 -1.9] [1]\n",
            "[-0.9 -1.9] [1]\n",
            "[-0.9 -1.9] [1]\n",
            "[-0.9 -1.9] [1]\n",
            "[-0.9 -1.9] [1]\n",
            "[-0.9 -1.9] [1]\n",
            "[-0.9 -1.9] [1]\n",
            "[-0.9 -1.9] [1]\n",
            "[-0.9 -1.9] [1]\n",
            "[-0.9 -1.9] [1]\n",
            "[-0.9 -1.9] [1]\n",
            "[-0.9 -1.9] [1]\n",
            "[-0.9 -1.9] [1]\n",
            "[-0.9 -1.9] [1]\n",
            "[-0.9 -1.9] [1]\n",
            "[-0.9 -1.9] [1]\n",
            "[-0.9 -1.9] [1]\n",
            "[-0.9 -1.9] [1]\n",
            "[-0.9 -1.9] [1]\n",
            "[-0.9 -1.9] [1]\n",
            "[-0.9 -1.9] [1]\n",
            "[-0.9 -1.9] [1]\n",
            "[-0.9 -1.9] [1]\n",
            "[-0.9 -1.9] [1]\n",
            "[-0.9 -1.9] [1]\n",
            "[-0.9 -1.9] [1]\n",
            "[-0.9 -1.9] [1]\n",
            "[-0.9 -1.9] [1]\n",
            "[-0.9 -1.9] [1]\n",
            "[-0.9 -1.9] [1]\n",
            "[-0.9 -1.9] [1]\n",
            "[-0.9 -1.9] [1]\n"
          ]
        }
      ]
    },
    {
      "cell_type": "code",
      "source": [
        "#Boundry plot\n",
        "\n",
        "plt.scatter(x_cords, y_cords)\n",
        "x_samples = np.linspace(0.0,1.0,100)\n",
        "\n",
        "y_values = -(weight[0] * x_samples + bias) / weight[1]\n",
        "\n",
        "\n",
        "\n",
        "plt.plot(x_samples,y_values)\n",
        "\n",
        "print(weight)\n",
        "print(bias)\n"
      ],
      "metadata": {
        "colab": {
          "base_uri": "https://localhost:8080/",
          "height": 465
        },
        "id": "tVKW9_Xhodu4",
        "outputId": "cf392142-1ab7-4401-c82f-d0dbb9b33448"
      },
      "execution_count": null,
      "outputs": [
        {
          "output_type": "stream",
          "name": "stdout",
          "text": [
            "[-0.9 -1.9]\n",
            "[1]\n"
          ]
        },
        {
          "output_type": "display_data",
          "data": {
            "text/plain": [
              "<Figure size 640x480 with 1 Axes>"
            ],
            "image/png": "[encoded data removed]"
          },
          "metadata": {}
        }
      ]
    },
    {
      "cell_type": "code",
      "source": [],
      "metadata": {
        "id": "9AXfrIGU0yeV"
      },
      "execution_count": null,
      "outputs": []
    }
  ]
}